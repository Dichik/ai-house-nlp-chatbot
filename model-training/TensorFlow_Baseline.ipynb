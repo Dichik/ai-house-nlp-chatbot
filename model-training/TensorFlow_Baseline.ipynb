{
  "nbformat": 4,
  "nbformat_minor": 0,
  "metadata": {
    "colab": {
      "provenance": []
    },
    "kernelspec": {
      "name": "python3",
      "display_name": "Python 3"
    },
    "language_info": {
      "name": "python"
    }
  },
  "cells": [
    {
      "cell_type": "code",
      "source": [
        "import numpy as np\n",
        "\n",
        "from tflite_model_maker import configs\n",
        "from tflite_model_maker import ExportFormat\n",
        "from tflite_model_maker import model_spec\n",
        "from tflite_model_maker import text_classifier\n",
        "from tflite_model_maker.text_classifier import DataLoader\n",
        "\n",
        "import tqdm as notebook_tqdm\n",
        "\n",
        "import tensorflow as tf\n",
        "assert tf.__version__.startswith('2')\n",
        "tf.get_logger().setLevel('ERROR')"
      ],
      "metadata": {
        "id": "5f1ysFajz1hW"
      },
      "execution_count": 477,
      "outputs": []
    },
    {
      "cell_type": "code",
      "source": [
        "spec = model_spec.get('average_word_vec')\n",
        "spec.num_words = 17850\n",
        "spec.seq_len = 27\n",
        "spec.wordvec_dim = 11"
      ],
      "metadata": {
        "id": "s2rwSUedz8ic"
      },
      "execution_count": 478,
      "outputs": []
    },
    {
      "cell_type": "code",
      "source": [
        "# load data\n",
        "data = DataLoader.from_csv(\n",
        "      filename='/content/drive/MyDrive/TensorFlow/processed_dataset.csv',\n",
        "      text_column='text_processed', \n",
        "      label_column='label', \n",
        "      model_spec=spec,\n",
        "      delimiter=',',\n",
        "      shuffle=True,\n",
        "      is_training=True)\n"
      ],
      "metadata": {
        "id": "-h44pAI60A46"
      },
      "execution_count": 479,
      "outputs": []
    },
    {
      "cell_type": "code",
      "source": [
        "# splitting data\n",
        "train_data, test_data = data.split(0.8)"
      ],
      "metadata": {
        "id": "4g0imzE10GxW"
      },
      "execution_count": 480,
      "outputs": []
    },
    {
      "cell_type": "code",
      "source": [
        "# fit model\n",
        "model = text_classifier.create(train_data, model_spec=spec, epochs=10)"
      ],
      "metadata": {
        "colab": {
          "base_uri": "https://localhost:8080/"
        },
        "id": "NFyS9apQ39Bx",
        "outputId": "eac52ad0-8041-4acc-e336-dad2abacfddf"
      },
      "execution_count": 481,
      "outputs": [
        {
          "output_type": "stream",
          "name": "stdout",
          "text": [
            "217/217 [==============================] - 1s 4ms/step - loss: 0.6877 - accuracy: 0.5841\n",
            "Epoch 2/2\n",
            "217/217 [==============================] - 1s 3ms/step - loss: 0.6517 - accuracy: 0.7637\n",
            "Epoch 3/3\n",
            "217/217 [==============================] - 1s 4ms/step - loss: 0.5724 - accuracy: 0.8217\n",
            "Epoch 4/4\n",
            "217/217 [==============================] - 1s 4ms/step - loss: 0.4632 - accuracy: 0.8561\n",
            "Epoch 5/5\n",
            "217/217 [==============================] - 1s 3ms/step - loss: 0.3751 - accuracy: 0.8697\n",
            "Epoch 6/6\n",
            "217/217 [==============================] - 1s 4ms/step - loss: 0.3129 - accuracy: 0.8839\n",
            "Epoch 7/7\n",
            "217/217 [==============================] - 2s 7ms/step - loss: 0.2621 - accuracy: 0.9016\n",
            "Epoch 8/8\n",
            "217/217 [==============================] - 1s 7ms/step - loss: 0.2369 - accuracy: 0.9083\n",
            "Epoch 9/9\n",
            "217/217 [==============================] - 1s 6ms/step - loss: 0.2137 - accuracy: 0.9165\n",
            "Epoch 10/10\n",
            "217/217 [==============================] - 1s 4ms/step - loss: 0.1919 - accuracy: 0.9264\n"
          ]
        }
      ]
    },
    {
      "cell_type": "code",
      "source": [
        "# accuracy check\n",
        "loss, accuracy = model.evaluate(test_data)"
      ],
      "metadata": {
        "colab": {
          "base_uri": "https://localhost:8080/"
        },
        "id": "Rdug-vt_4d4v",
        "outputId": "dac5c30b-867c-4808-ae24-909bc2391c9e"
      },
      "execution_count": 482,
      "outputs": [
        {
          "output_type": "stream",
          "name": "stdout",
          "text": [
            "55/55 [==============================] - 1s 3ms/step - loss: 0.2568 - accuracy: 0.8987\n"
          ]
        }
      ]
    },
    {
      "cell_type": "code",
      "source": [
        "# save model\n",
        "model.export(\n",
        "    export_dir='/content/drive/MyDrive/TensorFlow',\n",
        "    tflite_filename='model.tflite',\n",
        "    label_filename='labels',\n",
        "    vocab_filename='vocab',\n",
        "    saved_model_filename='saved_model',\n",
        "    tfjs_folder_name='tfjs',\n",
        "    export_format=[ExportFormat.TFLITE, ExportFormat.LABEL, ExportFormat.VOCAB, ExportFormat.SAVED_MODEL, ExportFormat.TFJS]\n",
        ")"
      ],
      "metadata": {
        "id": "mhlVUYn14fOY"
      },
      "execution_count": 483,
      "outputs": []
    },
    {
      "cell_type": "code",
      "source": [
        "model.summary()"
      ],
      "metadata": {
        "colab": {
          "base_uri": "https://localhost:8080/"
        },
        "id": "S3JEuDXZ62SQ",
        "outputId": "77a8efd7-1119-4f94-ca77-2f41efb046ba"
      },
      "execution_count": 484,
      "outputs": [
        {
          "output_type": "stream",
          "name": "stdout",
          "text": [
            "Model: \"sequential_59\"\n",
            "_________________________________________________________________\n",
            " Layer (type)                Output Shape              Param #   \n",
            "=================================================================\n",
            " embedding_59 (Embedding)    (None, 27, 11)            196383    \n",
            "                                                                 \n",
            " global_average_pooling1d_59  (None, 11)               0         \n",
            "  (GlobalAveragePooling1D)                                       \n",
            "                                                                 \n",
            " dense_118 (Dense)           (None, 11)                132       \n",
            "                                                                 \n",
            " dropout_59 (Dropout)        (None, 11)                0         \n",
            "                                                                 \n",
            " dense_119 (Dense)           (None, 2)                 24        \n",
            "                                                                 \n",
            "=================================================================\n",
            "Total params: 196,539\n",
            "Trainable params: 196,539\n",
            "Non-trainable params: 0\n",
            "_________________________________________________________________\n"
          ]
        }
      ]
    }
  ]
}